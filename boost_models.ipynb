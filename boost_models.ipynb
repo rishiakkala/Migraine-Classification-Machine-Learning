{
  "nbformat": 4,
  "nbformat_minor": 0,
  "metadata": {
    "colab": {
      "provenance": []
    },
    "kernelspec": {
      "name": "python3",
      "display_name": "Python 3"
    },
    "language_info": {
      "name": "python"
    }
  },
  "cells": [
    {
      "cell_type": "code",
      "source": [
        "#ada boost\n",
        "import pandas as pd\n",
        "from sklearn.model_selection import train_test_split\n",
        "from sklearn.ensemble import AdaBoostClassifier\n",
        "from sklearn.metrics import accuracy_score, precision_score, recall_score, f1_score\n",
        "\n",
        "# Load data from CSV file\n",
        "def load_data(file_path):\n",
        "    data = pd.read_csv(file_path)\n",
        "    X = data.iloc[:, :-1]  # Features\n",
        "    y = data.iloc[:, -1]   # Target variable\n",
        "    return X, y\n",
        "\n",
        "# Train AdaBoost classifier\n",
        "def train_adaboost(X_train, y_train, n_estimators=50, learning_rate=1):\n",
        "    clf = AdaBoostClassifier(n_estimators=n_estimators, learning_rate=learning_rate)\n",
        "    clf.fit(X_train, y_train)\n",
        "    return clf\n",
        "\n",
        "# Test the classifier\n",
        "def test_classifier(clf, X_test, y_test):\n",
        "    y_pred = clf.predict(X_test)\n",
        "    accuracy = accuracy_score(y_test, y_pred)\n",
        "    precision = precision_score(y_test, y_pred, average='weighted')\n",
        "    recall = recall_score(y_test, y_pred, average='weighted')\n",
        "    f1 = f1_score(y_test, y_pred, average='weighted')\n",
        "    return accuracy, precision, recall, f1\n",
        "\n",
        "if __name__ == \"__main__\":\n",
        "    # Path to CSV file\n",
        "    file_path = \"/content/data.csv\"  # Assuming data.csv is in the content directory\n",
        "\n",
        "    # Load data\n",
        "    X, y = load_data(file_path)\n",
        "\n",
        "    # Split data into training and testing sets with fixed random state\n",
        "    random_state = 252\n",
        "    X_train, X_test, y_train, y_test = train_test_split(X, y, test_size=0.2, random_state=random_state)\n",
        "\n",
        "    # Train AdaBoost classifier\n",
        "    clf = train_adaboost(X_train, y_train)\n",
        "\n",
        "    # Test the classifier\n",
        "    accuracy, precision, recall, f1 = test_classifier(clf, X_test, y_test)\n",
        "    print(\"Accuracy:\", accuracy)\n",
        "    print(\"Precision:\", precision)\n",
        "    print(\"Recall:\", recall)\n",
        "    print(\"F1-score:\", f1)\n"
      ],
      "metadata": {
        "colab": {
          "base_uri": "https://localhost:8080/"
        },
        "id": "j11BMwbVoVjZ",
        "outputId": "6f20e799-bbb8-40f6-fee3-3037149c11e8"
      },
      "execution_count": null,
      "outputs": [
        {
          "output_type": "stream",
          "name": "stdout",
          "text": [
            "Accuracy: 0.95\n",
            "Precision: 0.9354098360655737\n",
            "Recall: 0.95\n",
            "F1-score: 0.9386966253443525\n"
          ]
        },
        {
          "output_type": "stream",
          "name": "stderr",
          "text": [
            "/usr/local/lib/python3.10/dist-packages/sklearn/metrics/_classification.py:1344: UndefinedMetricWarning: Precision is ill-defined and being set to 0.0 in labels with no predicted samples. Use `zero_division` parameter to control this behavior.\n",
            "  _warn_prf(average, modifier, msg_start, len(result))\n"
          ]
        }
      ]
    },
    {
      "cell_type": "code",
      "source": [
        "#ada boost daa\n",
        "import pandas as pd\n",
        "from sklearn.model_selection import train_test_split\n",
        "from sklearn.ensemble import AdaBoostClassifier\n",
        "from sklearn.metrics import accuracy_score, precision_score, recall_score, f1_score\n",
        "\n",
        "# Load data from CSV file\n",
        "def load_data(file_path):\n",
        "    data = pd.read_csv(file_path)\n",
        "    X = data.iloc[:, :-1]  # Features\n",
        "    y = data.iloc[:, -1]   # Target variable\n",
        "    return X, y\n",
        "\n",
        "# Train AdaBoost classifier\n",
        "def train_adaboost(X_train, y_train, n_estimators=50, learning_rate=1):\n",
        "    clf = AdaBoostClassifier(n_estimators=n_estimators, learning_rate=learning_rate)\n",
        "    clf.fit(X_train, y_train)\n",
        "    return clf\n",
        "\n",
        "# Test the classifier\n",
        "def test_classifier(clf, X_test, y_test):\n",
        "    y_pred = clf.predict(X_test)\n",
        "    accuracy = accuracy_score(y_test, y_pred)\n",
        "    precision = precision_score(y_test, y_pred, average='weighted')\n",
        "    recall = recall_score(y_test, y_pred, average='weighted')\n",
        "    f1 = f1_score(y_test, y_pred, average='weighted')\n",
        "    return accuracy, precision, recall, f1\n",
        "\n",
        "if __name__ == \"__main__\":\n",
        "    # Path to CSV file\n",
        "    file_path = \"/content/augmented2.csv\"  # Assuming data.csv is in the content directory\n",
        "\n",
        "    # Load data\n",
        "    X, y = load_data(file_path)\n",
        "\n",
        "    # Split data into training and testing sets with fixed random state\n",
        "    random_state = 106\n",
        "    X_train, X_test, y_train, y_test = train_test_split(X, y, test_size=0.2, random_state=random_state)\n",
        "\n",
        "    # Train AdaBoost classifier\n",
        "    clf = train_adaboost(X_train, y_train)\n",
        "\n",
        "    # Test the classifier\n",
        "    accuracy, precision, recall, f1 = test_classifier(clf, X_test, y_test)\n",
        "    print(\"Accuracy:\", accuracy)\n",
        "    print(\"Precision:\", precision)\n",
        "    print(\"Recall:\", recall)\n",
        "    print(\"F1-score:\", f1)\n"
      ],
      "metadata": {
        "colab": {
          "base_uri": "https://localhost:8080/"
        },
        "id": "mPpTBM1RooMk",
        "outputId": "b893a30f-a284-43eb-a6c2-bbb66437f927"
      },
      "execution_count": null,
      "outputs": [
        {
          "output_type": "stream",
          "name": "stdout",
          "text": [
            "Accuracy: 0.9689655172413794\n",
            "Precision: 0.9689283819628647\n",
            "Recall: 0.9689655172413794\n",
            "F1-score: 0.9685969793753045\n"
          ]
        }
      ]
    },
    {
      "cell_type": "code",
      "source": [
        "# GradientBoostingClassifier\n",
        "import pandas as pd\n",
        "from sklearn.model_selection import train_test_split\n",
        "from sklearn.ensemble import GradientBoostingClassifier\n",
        "from sklearn.metrics import accuracy_score, precision_score, recall_score, f1_score\n",
        "\n",
        "# Load data from CSV file\n",
        "def load_data(file_path):\n",
        "    data = pd.read_csv(\"/content/data.csv\")\n",
        "    X = data.iloc[:, :-1]  # Features\n",
        "    y = data.iloc[:, -1]   # Target variable\n",
        "    return X, y\n",
        "\n",
        "if __name__ == \"__main__\":\n",
        "    # Path to CSV file\n",
        "    file_path = \"/content/data.csv\"  # Assuming data.csv is in the content directory\n",
        "\n",
        "    # Load data\n",
        "    X, y = load_data(file_path)\n",
        "\n",
        "    # Set a fixed random state\n",
        "    random_state = 129\n",
        "\n",
        "    # Split data into training and testing sets\n",
        "    X_train, X_test, y_train, y_test = train_test_split(X, y, test_size=0.2, random_state=random_state)\n",
        "\n",
        "    # Train Gradient Boosting classifier\n",
        "    clf = GradientBoostingClassifier()\n",
        "    clf.fit(X_train, y_train)\n",
        "\n",
        "    # Test the classifier\n",
        "    y_pred = clf.predict(X_test)\n",
        "\n",
        "    # Calculate metrics\n",
        "    accuracy = accuracy_score(y_test, y_pred)\n",
        "    precision = precision_score(y_test, y_pred, average='weighted')\n",
        "    recall = recall_score(y_test, y_pred, average='weighted')\n",
        "    f1 = f1_score(y_test, y_pred, average='weighted')\n",
        "\n",
        "    # Print metrics\n",
        "    print(f\"Accuracy: {accuracy:.4f}\")\n",
        "    print(f\"Precision: {precision:.4f}\")\n",
        "    print(f\"Recall: {recall:.4f}\")\n",
        "    print(f\"F1-score: {f1:.4f}\")\n"
      ],
      "metadata": {
        "colab": {
          "base_uri": "https://localhost:8080/"
        },
        "id": "NX9oAho-q_Lp",
        "outputId": "b9890e83-fafa-49a6-90f7-74eb163fdda2"
      },
      "execution_count": null,
      "outputs": [
        {
          "output_type": "stream",
          "name": "stdout",
          "text": [
            "Accuracy: 0.9750\n",
            "Precision: 0.9794\n",
            "Recall: 0.9750\n",
            "F1-score: 0.9742\n"
          ]
        }
      ]
    },
    {
      "cell_type": "code",
      "source": [
        "# GradientBoostingClassifier daa\n",
        "import pandas as pd\n",
        "from sklearn.model_selection import train_test_split\n",
        "from sklearn.ensemble import GradientBoostingClassifier\n",
        "from sklearn.metrics import accuracy_score, precision_score, recall_score, f1_score\n",
        "\n",
        "# Load data from CSV file\n",
        "def load_data(file_path):\n",
        "    data = pd.read_csv(\"/content/augmented2.csv\")\n",
        "    X = data.iloc[:, :-1]  # Features\n",
        "    y = data.iloc[:, -1]   # Target variable\n",
        "    return X, y\n",
        "\n",
        "if __name__ == \"__main__\":\n",
        "    # Path to CSV file\n",
        "    file_path = \"/content/augmented2.csv\"  # Assuming data.csv is in the content directory\n",
        "\n",
        "    # Load data\n",
        "    X, y = load_data(file_path)\n",
        "\n",
        "    # Set a fixed random state\n",
        "    random_state = 177\n",
        "\n",
        "    # Split data into training and testing sets\n",
        "    X_train, X_test, y_train, y_test = train_test_split(X, y, test_size=0.2, random_state=random_state)\n",
        "\n",
        "    # Train Gradient Boosting classifier\n",
        "    clf = GradientBoostingClassifier()\n",
        "    clf.fit(X_train, y_train)\n",
        "\n",
        "    # Test the classifier\n",
        "    y_pred = clf.predict(X_test)\n",
        "\n",
        "    # Calculate metrics\n",
        "    accuracy = accuracy_score(y_test, y_pred)\n",
        "    precision = precision_score(y_test, y_pred, average='weighted')\n",
        "    recall = recall_score(y_test, y_pred, average='weighted')\n",
        "    f1 = f1_score(y_test, y_pred, average='weighted')\n",
        "\n",
        "    # Print metrics\n",
        "    print(f\"Accuracy: {accuracy:.4f}\")\n",
        "    print(f\"Precision: {precision:.4f}\")\n",
        "    print(f\"Recall: {recall:.4f}\")\n",
        "    print(f\"F1-score: {f1:.4f}\")\n"
      ],
      "metadata": {
        "colab": {
          "base_uri": "https://localhost:8080/"
        },
        "id": "W7jaC-hjrss7",
        "outputId": "892f63f0-cb11-475f-8146-eb663f9c5ec0"
      },
      "execution_count": null,
      "outputs": [
        {
          "output_type": "stream",
          "name": "stdout",
          "text": [
            "Accuracy: 0.9966\n",
            "Precision: 0.9967\n",
            "Recall: 0.9966\n",
            "F1-score: 0.9966\n"
          ]
        }
      ]
    },
    {
      "cell_type": "code",
      "source": [
        "!pip install catboost\n"
      ],
      "metadata": {
        "colab": {
          "base_uri": "https://localhost:8080/"
        },
        "id": "e8XOLWb3tIeV",
        "outputId": "18a065f4-1d94-4aa1-8a61-4c0cee64c2aa"
      },
      "execution_count": null,
      "outputs": [
        {
          "output_type": "stream",
          "name": "stdout",
          "text": [
            "Collecting catboost\n",
            "  Downloading catboost-1.2.5-cp310-cp310-manylinux2014_x86_64.whl (98.2 MB)\n",
            "\u001b[2K     \u001b[90m━━━━━━━━━━━━━━━━━━━━━━━━━━━━━━━━━━━━━━━━\u001b[0m \u001b[32m98.2/98.2 MB\u001b[0m \u001b[31m7.1 MB/s\u001b[0m eta \u001b[36m0:00:00\u001b[0m\n",
            "\u001b[?25hRequirement already satisfied: graphviz in /usr/local/lib/python3.10/dist-packages (from catboost) (0.20.3)\n",
            "Requirement already satisfied: matplotlib in /usr/local/lib/python3.10/dist-packages (from catboost) (3.7.1)\n",
            "Requirement already satisfied: numpy>=1.16.0 in /usr/local/lib/python3.10/dist-packages (from catboost) (1.25.2)\n",
            "Requirement already satisfied: pandas>=0.24 in /usr/local/lib/python3.10/dist-packages (from catboost) (2.0.3)\n",
            "Requirement already satisfied: scipy in /usr/local/lib/python3.10/dist-packages (from catboost) (1.11.4)\n",
            "Requirement already satisfied: plotly in /usr/local/lib/python3.10/dist-packages (from catboost) (5.15.0)\n",
            "Requirement already satisfied: six in /usr/local/lib/python3.10/dist-packages (from catboost) (1.16.0)\n",
            "Requirement already satisfied: python-dateutil>=2.8.2 in /usr/local/lib/python3.10/dist-packages (from pandas>=0.24->catboost) (2.8.2)\n",
            "Requirement already satisfied: pytz>=2020.1 in /usr/local/lib/python3.10/dist-packages (from pandas>=0.24->catboost) (2023.4)\n",
            "Requirement already satisfied: tzdata>=2022.1 in /usr/local/lib/python3.10/dist-packages (from pandas>=0.24->catboost) (2024.1)\n",
            "Requirement already satisfied: contourpy>=1.0.1 in /usr/local/lib/python3.10/dist-packages (from matplotlib->catboost) (1.2.1)\n",
            "Requirement already satisfied: cycler>=0.10 in /usr/local/lib/python3.10/dist-packages (from matplotlib->catboost) (0.12.1)\n",
            "Requirement already satisfied: fonttools>=4.22.0 in /usr/local/lib/python3.10/dist-packages (from matplotlib->catboost) (4.53.0)\n",
            "Requirement already satisfied: kiwisolver>=1.0.1 in /usr/local/lib/python3.10/dist-packages (from matplotlib->catboost) (1.4.5)\n",
            "Requirement already satisfied: packaging>=20.0 in /usr/local/lib/python3.10/dist-packages (from matplotlib->catboost) (24.1)\n",
            "Requirement already satisfied: pillow>=6.2.0 in /usr/local/lib/python3.10/dist-packages (from matplotlib->catboost) (9.4.0)\n",
            "Requirement already satisfied: pyparsing>=2.3.1 in /usr/local/lib/python3.10/dist-packages (from matplotlib->catboost) (3.1.2)\n",
            "Requirement already satisfied: tenacity>=6.2.0 in /usr/local/lib/python3.10/dist-packages (from plotly->catboost) (8.3.0)\n",
            "Installing collected packages: catboost\n",
            "Successfully installed catboost-1.2.5\n"
          ]
        }
      ]
    },
    {
      "cell_type": "code",
      "source": [
        "#GBDT (Gradient Boosting Decision Tree)  code\n",
        "\n",
        "import pandas as pd\n",
        "from sklearn.model_selection import train_test_split\n",
        "from sklearn.ensemble import GradientBoostingClassifier\n",
        "from sklearn.metrics import accuracy_score, precision_score, recall_score, f1_score\n",
        "\n",
        "# Load data from CSV file\n",
        "def load_data(file_path):\n",
        "    data = pd.read_csv(file_path)\n",
        "    X = data.iloc[:, :-1]  # Features\n",
        "    y = data.iloc[:, -1]   # Target variable\n",
        "    return X, y\n",
        "\n",
        "if __name__ == \"__main__\":\n",
        "    # Path to CSV file\n",
        "    file_path = \"/content/data.csv\"  # Assuming data.csv is in the content directory\n",
        "\n",
        "    # Load data\n",
        "    X, y = load_data(file_path)\n",
        "\n",
        "    # Fixed random state\n",
        "    fixed_random_state = 129\n",
        "\n",
        "    # Split data into training and testing sets with the fixed random state\n",
        "    X_train, X_test, y_train, y_test = train_test_split(X, y, test_size=0.2, random_state=fixed_random_state)\n",
        "\n",
        "    # Train Gradient Boosting Decision Tree classifier\n",
        "    clf = GradientBoostingClassifier()\n",
        "    clf.fit(X_train, y_train)\n",
        "\n",
        "    # Test the classifier\n",
        "    y_pred = clf.predict(X_test)\n",
        "\n",
        "    # Calculate accuracy\n",
        "    accuracy = accuracy_score(y_test, y_pred)\n",
        "    print(f\"Accuracy: {accuracy:.4f}\")\n",
        "\n",
        "    # Calculate precision, recall, and F1-score\n",
        "    precision = precision_score(y_test, y_pred, average='weighted')\n",
        "    recall = recall_score(y_test, y_pred, average='weighted')\n",
        "    f1 = f1_score(y_test, y_pred, average='weighted')\n",
        "\n",
        "    # Print precision, recall, and F1-score\n",
        "    print(f\"Precision: {precision:.4f}\")\n",
        "    print(f\"Recall: {recall:.4f}\")\n",
        "    print(f\"F1-score: {f1:.4f}\")\n",
        "\n",
        "\n"
      ],
      "metadata": {
        "colab": {
          "base_uri": "https://localhost:8080/"
        },
        "id": "QqJmMo-9unWc",
        "outputId": "2d938179-eab8-4b2f-c7ed-a627813163ff"
      },
      "execution_count": null,
      "outputs": [
        {
          "output_type": "stream",
          "name": "stdout",
          "text": [
            "Accuracy: 0.9750\n",
            "Precision: 0.9794\n",
            "Recall: 0.9750\n",
            "F1-score: 0.9742\n"
          ]
        }
      ]
    },
    {
      "cell_type": "code",
      "source": [
        "#GBDT (Gradient Boosting Decision Tree)  code  with da\n",
        "import pandas as pd\n",
        "from sklearn.model_selection import train_test_split\n",
        "from sklearn.ensemble import GradientBoostingClassifier\n",
        "from sklearn.metrics import accuracy_score, precision_score, recall_score, f1_score\n",
        "\n",
        "# Load data from CSV file\n",
        "def load_data(file_path):\n",
        "    data = pd.read_csv(file_path)\n",
        "    X = data.iloc[:, :-1]  # Features\n",
        "    y = data.iloc[:, -1]   # Target variable\n",
        "    return X, y\n",
        "\n",
        "if __name__ == \"__main__\":\n",
        "    # Path to CSV file\n",
        "    file_path = \"/content/augmented2.csv\"  # Assuming data.csv is in the content directory\n",
        "\n",
        "    # Load data\n",
        "    X, y = load_data(file_path)\n",
        "\n",
        "    # Fixed random state\n",
        "    fixed_random_state = 177\n",
        "\n",
        "    # Split data into training and testing sets with the fixed random state\n",
        "    X_train, X_test, y_train, y_test = train_test_split(X, y, test_size=0.2, random_state=fixed_random_state)\n",
        "\n",
        "    # Train Gradient Boosting Decision Tree classifier\n",
        "    clf = GradientBoostingClassifier()\n",
        "    clf.fit(X_train, y_train)\n",
        "\n",
        "    # Test the classifier\n",
        "    y_pred = clf.predict(X_test)\n",
        "\n",
        "    # Calculate accuracy\n",
        "    accuracy = accuracy_score(y_test, y_pred)\n",
        "    print(f\"Accuracy: {accuracy:.4f}\")\n",
        "\n",
        "    # Calculate precision, recall, and F1-score\n",
        "    precision = precision_score(y_test, y_pred, average='weighted')\n",
        "    recall = recall_score(y_test, y_pred, average='weighted')\n",
        "    f1 = f1_score(y_test, y_pred, average='weighted')\n",
        "\n",
        "    # Print precision, recall, and F1-score\n",
        "    print(f\"Precision: {precision:.4f}\")\n",
        "    print(f\"Recall: {recall:.4f}\")\n",
        "    print(f\"F1-score: {f1:.4f}\")\n"
      ],
      "metadata": {
        "colab": {
          "base_uri": "https://localhost:8080/"
        },
        "id": "KSig3trUurpn",
        "outputId": "dc2ee0af-da18-46b7-aa11-7027768d54df"
      },
      "execution_count": null,
      "outputs": [
        {
          "output_type": "stream",
          "name": "stdout",
          "text": [
            "Accuracy: 0.9966\n",
            "Precision: 0.9967\n",
            "Recall: 0.9966\n",
            "F1-score: 0.9966\n"
          ]
        }
      ]
    },
    {
      "cell_type": "code",
      "source": [
        "#RGFClassifier\n",
        "import pandas as pd\n",
        "from rgf.sklearn import RGFClassifier\n",
        "from sklearn.model_selection import train_test_split\n",
        "from sklearn.metrics import accuracy_score, precision_score, recall_score, f1_score\n",
        "\n",
        "# Function to load data from CSV file\n",
        "def load_data(file_path):\n",
        "    data = pd.read_csv(file_path)\n",
        "    X = data.iloc[:, :-1]  # Features\n",
        "    y = data.iloc[:, -1]   # Target variable\n",
        "    return X, y\n",
        "\n",
        "# Path to your CSV file\n",
        "file_path = \"/content/data.csv\"\n",
        "\n",
        "# Load data from CSV file\n",
        "X, y = load_data(file_path)\n",
        "\n",
        "# Fixed random state\n",
        "fixed_random_state = 165\n",
        "\n",
        "# Split data into training and testing sets with the fixed random state\n",
        "X_train, X_test, y_train, y_test = train_test_split(X, y, test_size=0.2, random_state=fixed_random_state)\n",
        "\n",
        "# Initialize and train RGF classifier\n",
        "rgf = RGFClassifier(max_leaf=1000, algorithm=\"RGF\", test_interval=100, verbose=False)\n",
        "rgf.fit(X_train, y_train)\n",
        "\n",
        "# Test the classifier\n",
        "y_pred = rgf.predict(X_test)\n",
        "\n",
        "# Calculate accuracy\n",
        "accuracy = accuracy_score(y_test, y_pred)\n",
        "print(f\"Accuracy : {accuracy:.4f}\")\n",
        "\n",
        "# Calculate precision, recall, and F1-score separately\n",
        "precision = precision_score(y_test, y_pred, average='weighted')\n",
        "recall = recall_score(y_test, y_pred, average='weighted')\n",
        "f1 = f1_score(y_test, y_pred, average='weighted')\n",
        "\n",
        "# Print precision, recall, and F1-score\n",
        "print(f\"Precision: {precision:.4f}\")\n",
        "print(f\"Recall: {recall:.4f}\")\n",
        "print(f\"F1-score: {f1:.4f}\")\n"
      ],
      "metadata": {
        "colab": {
          "base_uri": "https://localhost:8080/"
        },
        "id": "kIlU1YAw0SUa",
        "outputId": "6351842d-75e8-4fec-8931-b238a562bd97"
      },
      "execution_count": null,
      "outputs": [
        {
          "output_type": "stream",
          "name": "stdout",
          "text": [
            "Accuracy : 0.9750\n",
            "Precision: 0.9757\n",
            "Recall: 0.9750\n",
            "F1-score: 0.9743\n"
          ]
        }
      ]
    },
    {
      "cell_type": "code",
      "source": [
        "#RGFClassifier da\n",
        "import pandas as pd\n",
        "from rgf.sklearn import RGFClassifier\n",
        "from sklearn.model_selection import train_test_split\n",
        "from sklearn.metrics import accuracy_score, precision_score, recall_score, f1_score\n",
        "\n",
        "# Function to load data from CSV file\n",
        "def load_data(file_path):\n",
        "    data = pd.read_csv(file_path)\n",
        "    X = data.iloc[:, :-1]  # Features\n",
        "    y = data.iloc[:, -1]   # Target variable\n",
        "    return X, y\n",
        "\n",
        "# Path to your CSV file\n",
        "file_path = \"/content/augmented2.csv\"\n",
        "\n",
        "# Load data from CSV file\n",
        "X, y = load_data(file_path)\n",
        "\n",
        "# Fixed random state\n",
        "fixed_random_state = 179\n",
        "\n",
        "# Split data into training and testing sets with the fixed random state\n",
        "X_train, X_test, y_train, y_test = train_test_split(X, y, test_size=0.2, random_state=fixed_random_state)\n",
        "\n",
        "# Initialize and train RGF classifier\n",
        "rgf = RGFClassifier(max_leaf=1000, algorithm=\"RGF\", test_interval=100, verbose=False)\n",
        "rgf.fit(X_train, y_train)\n",
        "\n",
        "# Test the classifier\n",
        "y_pred = rgf.predict(X_test)\n",
        "\n",
        "# Calculate accuracy\n",
        "accuracy = accuracy_score(y_test, y_pred)\n",
        "print(f\"Accuracy : {accuracy:.4f}\")\n",
        "\n",
        "# Calculate precision, recall, and F1-score separately\n",
        "precision = precision_score(y_test, y_pred, average='weighted')\n",
        "recall = recall_score(y_test, y_pred, average='weighted')\n",
        "f1 = f1_score(y_test, y_pred, average='weighted')\n",
        "\n",
        "# Print precision, recall, and F1-score\n",
        "print(f\"Precision: {precision:.4f}\")\n",
        "print(f\"Recall: {recall:.4f}\")\n",
        "print(f\"F1-score: {f1:.4f}\")\n"
      ],
      "metadata": {
        "colab": {
          "base_uri": "https://localhost:8080/"
        },
        "id": "oNFDe-3j0mZ6",
        "outputId": "e7477d02-6075-45b2-f0e0-31971605c5e7"
      },
      "execution_count": null,
      "outputs": [
        {
          "output_type": "stream",
          "name": "stdout",
          "text": [
            "Accuracy : 0.9966\n",
            "Precision: 0.9966\n",
            "Recall: 0.9966\n",
            "F1-score: 0.9966\n"
          ]
        }
      ]
    },
    {
      "cell_type": "code",
      "source": [
        "pip install rgf-python\n"
      ],
      "metadata": {
        "colab": {
          "base_uri": "https://localhost:8080/"
        },
        "id": "NLqMLPZd0Yza",
        "outputId": "774124c7-0f6d-4cac-a6da-90d3c013a50a"
      },
      "execution_count": null,
      "outputs": [
        {
          "output_type": "stream",
          "name": "stdout",
          "text": [
            "Collecting rgf-python\n",
            "  Downloading rgf_python-3.12.0-py3-none-manylinux1_x86_64.whl (757 kB)\n",
            "\u001b[2K     \u001b[90m━━━━━━━━━━━━━━━━━━━━━━━━━━━━━━━━━━━━━━━━\u001b[0m \u001b[32m757.8/757.8 kB\u001b[0m \u001b[31m3.5 MB/s\u001b[0m eta \u001b[36m0:00:00\u001b[0m\n",
            "\u001b[?25hRequirement already satisfied: joblib in /usr/local/lib/python3.10/dist-packages (from rgf-python) (1.4.2)\n",
            "Requirement already satisfied: scikit-learn>=0.18 in /usr/local/lib/python3.10/dist-packages (from rgf-python) (1.2.2)\n",
            "Requirement already satisfied: numpy>=1.17.3 in /usr/local/lib/python3.10/dist-packages (from scikit-learn>=0.18->rgf-python) (1.25.2)\n",
            "Requirement already satisfied: scipy>=1.3.2 in /usr/local/lib/python3.10/dist-packages (from scikit-learn>=0.18->rgf-python) (1.11.4)\n",
            "Requirement already satisfied: threadpoolctl>=2.0.0 in /usr/local/lib/python3.10/dist-packages (from scikit-learn>=0.18->rgf-python) (3.5.0)\n",
            "Installing collected packages: rgf-python\n",
            "Successfully installed rgf-python-3.12.0\n"
          ]
        }
      ]
    }
  ]
}